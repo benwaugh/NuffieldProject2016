{
 "cells": [
  {
   "cell_type": "markdown",
   "metadata": {},
   "source": [
    "# Plotting histograms from the \"Z path\" analysis"
   ]
  },
  {
   "cell_type": "markdown",
   "metadata": {},
   "source": [
    "## Initial set-up"
   ]
  },
  {
   "cell_type": "markdown",
   "metadata": {},
   "source": [
    "These commands give us access to some tools for plotting histograms and other graphs. We only need to run these once at the beginning of the notebook."
   ]
  },
  {
   "cell_type": "code",
   "execution_count": 1,
   "metadata": {
    "collapsed": true
   },
   "outputs": [],
   "source": [
    "import pylab\n",
    "import matplotlib.pyplot as plt\n",
    "%matplotlib inline\n",
    "pylab.rcParams['figure.figsize'] = 8,6"
   ]
  },
  {
   "cell_type": "markdown",
   "metadata": {},
   "source": [
    "We will use the location of the data file in many places, but we can use a variable to store the location so we only have to change one line to use a different file:"
   ]
  },
  {
   "cell_type": "code",
   "execution_count": 4,
   "metadata": {
    "collapsed": true
   },
   "outputs": [],
   "source": [
    "filename = '../data/Invariant_Masses.txt'"
   ]
  },
  {
   "cell_type": "markdown",
   "metadata": {},
   "source": [
    "## Plotting the invariant masses as a histogram"
   ]
  },
  {
   "cell_type": "markdown",
   "metadata": {},
   "source": [
    "This command opens the file. You may have to edit it to reflect the actual name of the file containing your results:"
   ]
  },
  {
   "cell_type": "code",
   "execution_count": 3,
   "metadata": {
    "collapsed": false
   },
   "outputs": [
    {
     "ename": "FileNotFoundError",
     "evalue": "[Errno 2] No such file or directory: 'Invariant_Masses.txt'",
     "output_type": "error",
     "traceback": [
      "\u001b[0;31m---------------------------------------------------------------------------\u001b[0m",
      "\u001b[0;31mFileNotFoundError\u001b[0m                         Traceback (most recent call last)",
      "\u001b[0;32m<ipython-input-3-7d122a8f116f>\u001b[0m in \u001b[0;36m<module>\u001b[0;34m()\u001b[0m\n\u001b[0;32m----> 1\u001b[0;31m \u001b[0mdata_file\u001b[0m \u001b[0;34m=\u001b[0m \u001b[0mopen\u001b[0m\u001b[0;34m(\u001b[0m\u001b[0mfilename\u001b[0m\u001b[0;34m)\u001b[0m\u001b[0;34m\u001b[0m\u001b[0m\n\u001b[0m",
      "\u001b[0;31mFileNotFoundError\u001b[0m: [Errno 2] No such file or directory: 'Invariant_Masses.txt'"
     ]
    }
   ],
   "source": [
    "data_file = open(filename)"
   ]
  },
  {
   "cell_type": "markdown",
   "metadata": {},
   "source": [
    "Then we can read the data from the file and store it in a list in the memory of the computer. If we want to rerun this cell we will also have to rerun the command above to open the file again."
   ]
  },
  {
   "cell_type": "code",
   "execution_count": null,
   "metadata": {
    "collapsed": true
   },
   "outputs": [],
   "source": [
    "masses = []                      # Create an empty list for masses from e+e- channel\n",
    "for line in data_file:           # Loop over each line in the file\n",
    "    mass, channel = line.split() # Each line contains a mass (in GeV) and a \"channel\" (m for mu+mu-, etc.)\n",
    "    m = float(mass)              # The mass is read in as a string, so we convert it to a (floating point) number ...\n",
    "    masses.append(m)             # ... before adding it to the list."
   ]
  },
  {
   "cell_type": "markdown",
   "metadata": {},
   "source": [
    "Print the list of masses, just to make sure it looks sensible:"
   ]
  },
  {
   "cell_type": "code",
   "execution_count": null,
   "metadata": {
    "collapsed": false
   },
   "outputs": [],
   "source": [
    "print(masses)"
   ]
  },
  {
   "cell_type": "markdown",
   "metadata": {},
   "source": [
    "Then we can create a histogram of the masses and display it."
   ]
  },
  {
   "cell_type": "code",
   "execution_count": null,
   "metadata": {
    "collapsed": false,
    "scrolled": true
   },
   "outputs": [],
   "source": [
    "plt.hist(masses, bins=50, range=(0,200))\n",
    "plt.xlabel('Mass [GeV]')"
   ]
  },
  {
   "cell_type": "markdown",
   "metadata": {},
   "source": [
    "To present our data better, there are various tricks we can try. See [Basic Data Plotting with Matplotlib Part 3: Histograms](https://bespokeblog.wordpress.com/2011/07/11/basic-data-plotting-with-matplotlib-part-3-histograms/) for some possibilities, or the [Pyplot tutorial](http://www.matplotlib.org/users/pyplot_tutorial.html) for many more possibilities and examples."
   ]
  },
  {
   "cell_type": "markdown",
   "metadata": {},
   "source": [
    "## Plotting the channels separately"
   ]
  },
  {
   "cell_type": "markdown",
   "metadata": {},
   "source": [
    "This histogram above includes all the invariant masses in the data file, without showing which come from $e^+e^-$ events, which from $\\mu^+\\mu^-$ events, and so on. We might want to display the channels separately, which means keeping a list of data for each channel. Initially let's just plot the $e^+e^-$ and $\\mu^+\\mu^-$ events, and then lump everything else together as \"miscellaneous\"."
   ]
  },
  {
   "cell_type": "code",
   "execution_count": null,
   "metadata": {
    "collapsed": false
   },
   "outputs": [],
   "source": [
    "data_file = open(filename)  # We need to open the file again\n",
    "\n",
    "masses_e = []                      # Create an empty list for masses from e+e- channel\n",
    "masses_m = []                      # Create an empty list for masses from mu+mu- channel\n",
    "masses_misc = []                   # Create an empty list for masses from all other channels\n",
    "\n",
    "for line in data_file:           # Loop over each line in the file\n",
    "    mass, channel = line.split() # Each line contains a mass (in GeV) and a \"channel\" (m for mu+mu-, etc.)\n",
    "    m = float(mass)\n",
    "    if channel=='e':\n",
    "        masses_e.append(m)\n",
    "    elif channel=='m':\n",
    "        masses_m.append(m)\n",
    "    else:\n",
    "        masses_misc.append(m)"
   ]
  },
  {
   "cell_type": "markdown",
   "metadata": {},
   "source": [
    "We can plot all these histograms on the same axes, using different colours."
   ]
  },
  {
   "cell_type": "code",
   "execution_count": null,
   "metadata": {
    "collapsed": false
   },
   "outputs": [],
   "source": [
    "plt.hist(masses_e, bins=50, range=(0,200), color='b')\n",
    "plt.hist(masses_m, bins=50, range=(0,200), color='r', alpha=0.5)\n",
    "plt.hist(masses_misc, bins=50, range=(0,200), color='g', alpha=0.2)\n",
    "plt.xlabel('Mass [GeV]')"
   ]
  },
  {
   "cell_type": "markdown",
   "metadata": {},
   "source": [
    "To present our data better, there are various tricks we can try. See [Basic Data Plotting with Matplotlib Part 3: Histograms](https://bespokeblog.wordpress.com/2011/07/11/basic-data-plotting-with-matplotlib-part-3-histograms/) for some possibilities."
   ]
  },
  {
   "cell_type": "markdown",
   "metadata": {
    "collapsed": true
   },
   "source": [
    "## Reading the channels from the input file"
   ]
  },
  {
   "cell_type": "markdown",
   "metadata": {},
   "source": [
    "If there are many different channels in the data, it can be tedious and error-prone to write a separate \"elif\" clause for each one. In other cases we might not even know what channels are in the data file. So we may want to take this information from the data file itself.\n",
    "\n",
    "We can do this using a Python container object called a *dictionary*. In this dictionary we will store a *list* of data for each channel, such that we can easily find the list of data corresponding to a given channel."
   ]
  },
  {
   "cell_type": "code",
   "execution_count": null,
   "metadata": {
    "collapsed": true
   },
   "outputs": [],
   "source": [
    "data_file = open(filename)  # We need to open the file again\n",
    "\n",
    "channels = {}                             # Create an empty \"dictionary\"\n",
    "for line in data_file:                    # Reading in the data from each line ...\n",
    "    mass, channel = line.split()          #\n",
    "    m = float(mass)                       # ... works the same as before.\n",
    "    if channel in channels:               # If this channel is already in our dictionary ...\n",
    "        channel_data = channels[channel]  # ... we find the existing list of data for this channel.\n",
    "    else:                                 # If this channel is *not* already in the dictionary ...\n",
    "        channel_data = []                 # ... we create a new, empty list for this channel ...\n",
    "        channels[channel] = channel_data  # ... and add it to the dictionary.\n",
    "    channel_data.append(m)                # Either way, we add the invariant mass to the list for this channel."
   ]
  },
  {
   "cell_type": "markdown",
   "metadata": {},
   "source": [
    "So all the data is now in the dictionary called `channels`. What does this look like?"
   ]
  },
  {
   "cell_type": "code",
   "execution_count": null,
   "metadata": {
    "collapsed": false
   },
   "outputs": [],
   "source": [
    "print(channels)"
   ]
  },
  {
   "cell_type": "markdown",
   "metadata": {},
   "source": [
    "For each channel in the input data file, we can see the corresponding channel name (e.g. `e`) followed by a colon (`:`) and a list containing the invariant masses for that channel. If we want to look at just one of these lists, we can extract it from the dictionary using the channel name as a *key*:"
   ]
  },
  {
   "cell_type": "code",
   "execution_count": null,
   "metadata": {
    "collapsed": false
   },
   "outputs": [],
   "source": [
    "print(channels['g'])"
   ]
  },
  {
   "cell_type": "markdown",
   "metadata": {
    "collapsed": true
   },
   "source": [
    "Let's use a loop over all the channels, creating a separate histogram for each one:"
   ]
  },
  {
   "cell_type": "code",
   "execution_count": null,
   "metadata": {
    "collapsed": false
   },
   "outputs": [],
   "source": [
    "pylab.rcParams['figure.figsize'] = 12,2\n",
    "plot_number = 0\n",
    "for channel in channels:\n",
    "    plot_number += 1\n",
    "    plt.figure(plot_number)\n",
    "    masses = channels[channel]\n",
    "    plt.hist(masses, bins=50, range=(0,200), label=channel)\n",
    "    plt.legend()\n",
    "    plt.xlabel('invariant mass / GeV')"
   ]
  }
 ],
 "metadata": {
  "kernelspec": {
   "display_name": "Python 3",
   "language": "python",
   "name": "python3"
  },
  "language_info": {
   "codemirror_mode": {
    "name": "ipython",
    "version": 3
   },
   "file_extension": ".py",
   "mimetype": "text/x-python",
   "name": "python",
   "nbconvert_exporter": "python",
   "pygments_lexer": "ipython3",
   "version": "3.3.2"
  }
 },
 "nbformat": 4,
 "nbformat_minor": 1
}
