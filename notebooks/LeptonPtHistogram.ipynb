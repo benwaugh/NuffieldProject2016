{
 "cells": [
  {
   "cell_type": "markdown",
   "metadata": {},
   "source": [
    "# Demonstration of accessing lepton information"
   ]
  },
  {
   "cell_type": "markdown",
   "metadata": {},
   "source": [
    "Import what we need from Matplotlib and ROOT:"
   ]
  },
  {
   "cell_type": "code",
   "execution_count": 1,
   "metadata": {
    "collapsed": true
   },
   "outputs": [],
   "source": [
    "import pylab\n",
    "import matplotlib.pyplot as plt\n",
    "%matplotlib inline\n",
    "pylab.rcParams['figure.figsize'] = 12,8\n",
    "\n",
    "from ROOT import TChain"
   ]
  },
  {
   "cell_type": "markdown",
   "metadata": {},
   "source": [
    "Create a \"chain\" of files (but just one file for now):"
   ]
  },
  {
   "cell_type": "code",
   "execution_count": 2,
   "metadata": {
    "collapsed": false
   },
   "outputs": [
    {
     "data": {
      "text/plain": [
       "1"
      ]
     },
     "execution_count": 2,
     "metadata": {},
     "output_type": "execute_result"
    }
   ],
   "source": [
    "data = TChain(\"mini\");  # \"mini\" is the name of the TTree stored in the data files\n",
    "data.Add(\"/home/waugh/atlas-data/DataMuons.root\")"
   ]
  },
  {
   "cell_type": "markdown",
   "metadata": {},
   "source": [
    "This is how we plotted the pT of the leading lepton (the first, highest pT one) in each event before. We are looking at 1000 events, and exactly 1 lepton from each event, so our histogram has 1000 entries."
   ]
  },
  {
   "cell_type": "code",
   "execution_count": 3,
   "metadata": {
    "collapsed": false
   },
   "outputs": [
    {
     "name": "stdout",
     "output_type": "stream",
     "text": [
      "Number of entries = 1000\n"
     ]
    },
    {
     "data": {
      "image/png": "[encoded data removed]",
      "text/plain": [
       "<matplotlib.figure.Figure at 0x7f4ef71b1c90>"
      ]
     },
     "metadata": {},
     "output_type": "display_data"
    }
   ],
   "source": [
    "pt = []\n",
    "for event_num in xrange(1000):\n",
    "    data.GetEntry(event_num)\n",
    "    pt.append(data.lep_pt[0])  # We are assuming there is at least one lepton in each event\n",
    "    \n",
    "n, bins, patches = plt.hist(pt)\n",
    "plt.xlabel('Leading lepton pT [MeV]')\n",
    "plt.ylabel('Events per bin')\n",
    "\n",
    "n_entries = int(sum(n))\n",
    "print(\"Number of entries = {}\".format(n_entries))"
   ]
  },
  {
   "cell_type": "markdown",
   "metadata": {},
   "source": [
    "Plotting the pT of *all* leptons is a bit more complicated, and we can see that there are more entries in the resulting histogram because some events have more than one lepton."
   ]
  },
  {
   "cell_type": "code",
   "execution_count": 4,
   "metadata": {
    "collapsed": false
   },
   "outputs": [
    {
     "name": "stdout",
     "output_type": "stream",
     "text": [
      "Number of entries = 1084\n"
     ]
    },
    {
     "data": {
      "image/png": "[encoded data removed]",
      "text/plain": [
       "<matplotlib.figure.Figure at 0x7f4ef71b1110>"
      ]
     },
     "metadata": {},
     "output_type": "display_data"
    }
   ],
   "source": [
    "pt_leptons = []\n",
    "for event_num in xrange(1000):              # loop over the events\n",
    "    data.GetEntry(event_num)                # read the next event into memory\n",
    "    num_leptons = data.lep_n                # number of leptons in the event\n",
    "    for lepton_num in xrange(num_leptons):  # loop over the leptons within this event\n",
    "        pt_lepton = data.lep_pt[lepton_num] # get the pT of the next lepton...\n",
    "        pt_leptons.append(pt_lepton)        # ... and add it to the list\n",
    "        \n",
    "n, bins, patches = plt.hist(pt_leptons)\n",
    "plt.xlabel('Lepton pT [MeV]')\n",
    "plt.ylabel('Events per bin')\n",
    "\n",
    "n_entries = int(sum(n))\n",
    "print(\"Number of entries = {}\".format(n_entries))"
   ]
  }
 ],
 "metadata": {
  "kernelspec": {
   "display_name": "Python 2",
   "language": "python",
   "name": "python2"
  },
  "language_info": {
   "codemirror_mode": {
    "name": "ipython",
    "version": 2
   },
   "file_extension": ".py",
   "mimetype": "text/x-python",
   "name": "python",
   "nbconvert_exporter": "python",
   "pygments_lexer": "ipython2",
   "version": "2.7.11"
  }
 },
 "nbformat": 4,
 "nbformat_minor": 1
}
