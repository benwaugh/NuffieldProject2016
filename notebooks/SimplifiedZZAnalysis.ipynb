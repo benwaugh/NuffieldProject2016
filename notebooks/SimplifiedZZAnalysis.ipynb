{
 "cells": [
  {
   "cell_type": "markdown",
   "metadata": {},
   "source": [
    "# Simplified ZZ analysis"
   ]
  },
  {
   "cell_type": "markdown",
   "metadata": {},
   "source": [
    "This is based on the ZZ analysis in the ATLAS outreach paper, but including all possible pairs of muons rather than selecting the combination closest to the Z mass."
   ]
  },
  {
   "cell_type": "markdown",
   "metadata": {},
   "source": [
    "This time we will use ROOT histograms instead of Matplotlib:"
   ]
  },
  {
   "cell_type": "code",
   "execution_count": 1,
   "metadata": {
    "collapsed": false
   },
   "outputs": [
    {
     "data": {
      "application/javascript": [
       "require(['codemirror/mode/clike/clike'], function(Clike) { console.log('ROOTaaS - C++ CodeMirror module loaded'); });"
      ]
     },
     "metadata": {},
     "output_type": "display_data"
    },
    {
     "data": {
      "application/javascript": [
       "IPython.CodeCell.config_defaults.highlight_modes['magic_text/x-c++src'] = {'reg':[/^%%cpp/]};"
      ]
     },
     "metadata": {},
     "output_type": "display_data"
    },
    {
     "name": "stdout",
     "output_type": "stream",
     "text": [
      "Welcome to ROOTaaS 6.06/06\n"
     ]
    }
   ],
   "source": [
    "from ROOT import TChain, TH1F, TLorentzVector, TCanvas"
   ]
  },
  {
   "cell_type": "markdown",
   "metadata": {},
   "source": [
    "Use some Monte Carlo ZZ events for testing before running on real data:"
   ]
  },
  {
   "cell_type": "code",
   "execution_count": 2,
   "metadata": {
    "collapsed": false
   },
   "outputs": [
    {
     "data": {
      "text/plain": [
       "1"
      ]
     },
     "execution_count": 2,
     "metadata": {},
     "output_type": "execute_result"
    }
   ],
   "source": [
    "data = TChain(\"mini\");  # \"mini\" is the name of the TTree stored in the data files\n",
    "data.Add(\"http://atlas-opendata.web.cern.ch/atlas-opendata/release/samples/MC/mc_105986.ZZ.root\")\n",
    "#data.Add(\"http://atlas-opendata.web.cern.ch/atlas-opendata/release/samples/Data/DataMuons.root\")"
   ]
  },
  {
   "cell_type": "markdown",
   "metadata": {},
   "source": [
    "Define a class and some functions that we can use for extracting the information we want from the events:"
   ]
  },
  {
   "cell_type": "code",
   "execution_count": 3,
   "metadata": {
    "collapsed": true
   },
   "outputs": [],
   "source": [
    "class Particle:\n",
    "    '''\n",
    "    Represents a particle with a known type, charge and four-momentum\n",
    "    '''\n",
    "    def __init__(self, four_momentum, pdg_code, charge):\n",
    "        self.four_momentum = four_momentum\n",
    "        self.typ = abs(pdg_code)\n",
    "        self.charge = charge\n",
    "\n",
    "def leptons_from_event(event, pt_min=0.0):\n",
    "    '''\n",
    "    Gets list of leptons from an event, subject to an optional minimum pT cut.\n",
    "    '''\n",
    "    leptons = []\n",
    "    for i in xrange(event.lep_n):\n",
    "        pt = event.lep_pt[i]\n",
    "        if pt > pt_min:        # only add lepton to output if it has enough pt\n",
    "            p = TLorentzVector()\n",
    "            p.SetPtEtaPhiE(pt, event.lep_eta[i], event.lep_phi[i], event.lep_E[i])\n",
    "            particle = Particle(p, event.lep_type[i], event.lep_charge[i])\n",
    "            leptons.append(particle)\n",
    "    return leptons\n",
    "\n",
    "def pairs_from_leptons(leptons):\n",
    "    '''\n",
    "    Get list of four-momenta for all possible opposite-charge pairs.\n",
    "    '''\n",
    "    neg = []\n",
    "    pos = []\n",
    "    for lepton in leptons:\n",
    "        if lepton.charge > 0:\n",
    "            pos.append(lepton)\n",
    "        elif lepton.charge < 0:\n",
    "            neg.append(lepton)\n",
    "        else:\n",
    "            print(\"Warning: unexpected neutral particle\")\n",
    "    pairs = []\n",
    "    for p in pos:\n",
    "        pp = p.four_momentum\n",
    "        for n in neg:\n",
    "            if p.typ == n.typ:    # only combine if they are same type (e or mu)\n",
    "                pn = n.four_momentum\n",
    "                ptot = pp + pn\n",
    "                pairs.append(ptot)\n",
    "    return pairs"
   ]
  },
  {
   "cell_type": "markdown",
   "metadata": {},
   "source": [
    "Now we can look for events with exactly four \"good\" leptons (those with a big enough pT) and combine them in pairs to make Z candidates:"
   ]
  },
  {
   "cell_type": "code",
   "execution_count": 4,
   "metadata": {
    "collapsed": false
   },
   "outputs": [
    {
     "data": {
      "image/png": "[encoded data removed]",
      "text/plain": [
       "<IPython.core.display.Image object>"
      ]
     },
     "metadata": {},
     "output_type": "display_data"
    }
   ],
   "source": [
    "c1 = TCanvas(\"TheCanvas\",\"Canvas for plotting histograms\",800,600)\n",
    "h1 = TH1F(\"h1\",\"Dilepton mass\",200,0,200)\n",
    "\n",
    "num_events = data.GetEntries()\n",
    "\n",
    "for event_num in xrange(1000):               # loop over the events\n",
    "    data.GetEntry(event_num)                 # read the next event into memory\n",
    "    leptons = leptons_from_event(data,10000) # pt cut of 10 GeV\n",
    "    if len(leptons) == 4:                    # require exactly 4 \"good\" leptons\n",
    "        pairs = pairs_from_leptons(leptons)\n",
    "        for pair in pairs:\n",
    "            m = pair.M()/ 1000.   # convert from MeV to GeV\n",
    "            h1.Fill(m)\n",
    "        \n",
    "h1.Draw('E')\n",
    "c1.Draw()"
   ]
  }
 ],
 "metadata": {
  "kernelspec": {
   "display_name": "Python 2",
   "language": "python",
   "name": "python2"
  },
  "language_info": {
   "codemirror_mode": {
    "name": "ipython",
    "version": 2
   },
   "file_extension": ".py",
   "mimetype": "text/x-python",
   "name": "python",
   "nbconvert_exporter": "python",
   "pygments_lexer": "ipython2",
   "version": "2.7.5"
  }
 },
 "nbformat": 4,
 "nbformat_minor": 1
}
